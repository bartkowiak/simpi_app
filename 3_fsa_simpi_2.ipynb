{
 "cells": [
  {
   "cell_type": "code",
   "execution_count": 1,
   "id": "4e5fbb71-d6c7-4499-9273-d8d89164a331",
   "metadata": {
    "tags": []
   },
   "outputs": [],
   "source": [
    "import os\n",
    "base_path = r\"C:\\Users\\ndrmon\\Anaconda3\"\n",
    "path = os.pathsep.join([os.path.join(base_path, i) for i in [r\"\", r\"bin\", r\"Scripts\", r\"Library\\mingw-w64\\bin\", r\"Library\\bin\"]])\n",
    "os.environ[\"PATH\"]+=os.pathsep+path"
   ]
  },
  {
   "cell_type": "code",
   "execution_count": 4,
   "id": "71d6da84-1086-4930-9608-6415f46d3629",
   "metadata": {
    "tags": []
   },
   "outputs": [],
   "source": [
    "import numpy as np\n",
    "import pandas as pd\n",
    "import simpy \n",
    "import matplotlib.pyplot as plt\n",
    "import itertools\n",
    "from IPython import display\n",
    "import pandas as pd\n",
    "import numpy as np\n",
    "import matplotlib.pyplot as plt\n",
    "import numpy as np\n",
    "import simpy \n",
    "import matplotlib.pyplot as plt\n",
    "import matplotlib.animation as animation\n",
    "import itertools\n",
    "from IPython.display import HTML\n",
    "import warnings\n",
    "import mercury as mr\n",
    "warnings.simplefilter(action='ignore', category=FutureWarning)\n"
   ]
  },
  {
   "cell_type": "markdown",
   "id": "5605d254-47df-4b31-acd5-f25a8c302191",
   "metadata": {},
   "source": [
    "# Simulation X FSA mit gleicher Distribution und separaten Schlangen"
   ]
  },
  {
   "cell_type": "code",
   "execution_count": 5,
   "id": "b247b1d0",
   "metadata": {},
   "outputs": [],
   "source": [
    "import warnings\n",
    "import mercury as mr\n",
    "import plotly.express as px\n",
    "import pandas as pd\n",
    "warnings.simplefilter(action='ignore', category=Warning)\n"
   ]
  },
  {
   "cell_type": "code",
   "execution_count": 12,
   "id": "d09c9dec",
   "metadata": {},
   "outputs": [
    {
     "data": {
      "application/mercury+json": {
       "allow_download": false,
       "code_uid": "App.0.40.25.3-randd2fd5c3a",
       "continuous_update": true,
       "description": "Simpi Test App",
       "full_screen": true,
       "model_id": "mercury-app",
       "notify": "{}",
       "output": "app",
       "schedule": "",
       "show_code": true,
       "show_prompt": false,
       "show_sidebar": true,
       "static_notebook": false,
       "stop_on_error": false,
       "title": "Simpi Test App",
       "widget": "App"
      },
      "text/html": [
       "<h3>Mercury Application</h3><small>This output won't appear in the web app.</small>"
      ],
      "text/plain": [
       "mercury.App"
      ]
     },
     "metadata": {},
     "output_type": "display_data"
    }
   ],
   "source": [
    "# set Application parameters\n",
    "# set Application parameters\n",
    "app = mr.App(title=\"Simpi Test App 2\",\n",
    "        description=\"Simpi Test App\",\n",
    "        show_code=False,\n",
    "        show_prompt=True,\n",
    "        continuous_update=True,\n",
    "        static_notebook=False,\n",
    "        show_sidebar=True,\n",
    "        full_screen=True,\n",
    "        allow_download=True)"
   ]
  },
  {
   "cell_type": "code",
   "execution_count": 14,
   "id": "dea9ac78",
   "metadata": {},
   "outputs": [],
   "source": [
    "def RunSim(NUM_FSA,FGZ_PRO_MIN,SIM_TIME,NUM_RUNS,video_flag='N'):\n",
    "   \n",
    "    import numpy as np\n",
    "    import pandas as pd\n",
    "    import simpy \n",
    "    import matplotlib.pyplot as plt\n",
    "    import itertools\n",
    "    from IPython import display\n",
    "    import pandas as pd\n",
    "    import numpy as np\n",
    "    from ipywidgets import interactive\n",
    "    import matplotlib.pyplot as plt\n",
    "    import numpy as np\n",
    "    from ipywidgets import interact, interactive, fixed, interact_manual\n",
    "    import ipywidgets as widgets\n",
    "    import simpy \n",
    "    import matplotlib.pyplot as plt\n",
    "    import matplotlib.animation as animation\n",
    "    import itertools\n",
    "    from IPython.display import HTML\n",
    "    import warnings\n",
    "    #import mercury as mr\n",
    "\n",
    "    def TicketVerkaufSim(NUM_FSA,FGZ_PRO_MIN,TICKET_PRO_MIN,SIM_TIME):\n",
    "            \"\"\"A station has a limited number of Fahrscheinautomaten (``NUM_MACHINES``) to\n",
    "        sellt eh tickets in parallel.\n",
    "\n",
    "        Fahrgast has to request one of the machines. When they got one, they\n",
    "        can start the buying processes and wait for it to finish (which\n",
    "        is described by the Possion distribution as well).\"\"\"\n",
    "\n",
    "            import random\n",
    "            \n",
    "\n",
    "\n",
    "            def generate_fg(FGZ_PRO_MIN):\n",
    "                return np.random.exponential(1.0/FGZ_PRO_MIN) # 10 customer per minute \n",
    "            #poisson_random_measure\n",
    "\n",
    "\n",
    "            def assign_fsa(TICKET_PRO_MIN):\n",
    "                return np.random.exponential(1.0/TICKET_PRO_MIN) # serve 2 customer per minute \n",
    "\n",
    "\n",
    "            #waiting time        \n",
    "            wait_t={}       \n",
    "            queues = []\n",
    "            arr_t=[]    \n",
    "            fg_ankommen={}\n",
    "            service_t={}\n",
    "            start_t={}\n",
    "            choices={}\n",
    "            fg_beended={}\n",
    "\n",
    "            def fg(env,fg, fsas):\n",
    "                        t_arrival=env.now\n",
    "                        fg_ankommen[fg]=t_arrival\n",
    "                        Qlength = {i:NoInSystem(fsas[i]) for i in range(len(fsas))}\n",
    "                        queues.append({q:len(fsas[q].put_queue) for q in range(len(fsas))})\n",
    "\n",
    "                        choice=[k for k,v in sorted(Qlength.items(), key=lambda a:a[1])][0]\n",
    "                        choices[fg]=(choice)\n",
    "\n",
    "                        with fsas[choice].request() as request:              \n",
    "                            yield request\n",
    "                            t_service=env.now\n",
    "                            start_t[fg]=(t_service)\n",
    "\n",
    "                            wait_t[fg]=(t_service-t_arrival)\n",
    "\n",
    "                            yield env.timeout(assign_fsa(NUM_FSA))\n",
    "                            queues.append({i: len(fsas[i].put_queue) for i in range(len(fsas))})\n",
    "\n",
    "                            t_depart=env.now\n",
    "                            service_t[fg]=(t_depart-t_service)\n",
    "\n",
    "                            fg_beended[fg]=fg\n",
    "\n",
    "\n",
    "            \n",
    "            def fsa_run(env):\n",
    "                i=0\n",
    "                while True:\n",
    "                    i+=1\n",
    "                    yield env.timeout(generate_fg(FGZ_PRO_MIN))\n",
    "                    env.process(fg(env,i, fsas))\n",
    "\n",
    "            def NoInSystem(f):\n",
    "                \"\"\"Total number of customers in the resource R\"\"\"\n",
    "                return max([0, len(f.put_queue) + len(f.users)])\n",
    "\n",
    "            \n",
    "            \n",
    "            ###Simulation part\n",
    "\n",
    "            #np.random.seed(RANDOM_SEED) \n",
    "            np.random.seed() \n",
    "\n",
    "            env=simpy.Environment()\n",
    "            #generate resources\n",
    "            fsas={i: simpy.Resource(env) for i in range(NUM_FSA)}\n",
    "            #run\n",
    "            env.process(fsa_run(env))\n",
    "            env.run(until=SIM_TIME)\n",
    "            \n",
    "            return wait_t, queues , arr_t, fg_ankommen,service_t,start_t, choices, fg_beended\n",
    "    def create_output(fg_ankommen,start_t,choices,service_t,wait_t,fg_beended):\n",
    "        def dfconverter(dict,column,i):\n",
    "            temp=pd.DataFrame(dict, index=[0]).T.reset_index()\n",
    "            temp.columns=['fg',column]\n",
    "            dictlist[i]=temp\n",
    "\n",
    "\n",
    "        listCol=['arr_t','start_t','fsa','service_t','wait_t','fg_beended']\n",
    "        listDict=[fg_ankommen,start_t,choices,service_t,wait_t,fg_beended]\n",
    "\n",
    "        dictlist={}\n",
    "        for i,x in enumerate(listDict):\n",
    "            dfconverter(x,listCol[i],i)  \n",
    "            \n",
    "        df=dictlist[0].merge(dictlist[1], how='left',on='fg').merge(dictlist[2], how='left',on='fg').merge(dictlist[3], how='left',on='fg').merge(dictlist[4], how='left',on='fg').merge(dictlist[5], how='left',on='fg').sort_values(by='fg')\n",
    "        ## fg noch in schlange:\n",
    "        ratio_fg_sch=len(df[df['wait_t'].isna()])/len(df)*100\n",
    "        fg_ohne_t=len(df[df['wait_t'].isna()])\n",
    "        df['ratio_fg_sch']=ratio_fg_sch\n",
    "        df['fg_ohne_t']=fg_ohne_t\n",
    "\n",
    "        df['wait_t_cl']=np.where(df['wait_t'].isna(),SIM_TIME-df['arr_t'],df['wait_t']) \n",
    "        df['start_t_cl']=np.where(((df['service_t'].isna()) & (~df['service_t'].isna())),SIM_TIME-df['start_t'],df['start_t']) \n",
    "\n",
    "        #df['wait_t']=df.start_t-df.arr_t\n",
    "        for i in range(NUM_FSA):\n",
    "            df['start_t_'+str(i)]=np.where(df['fsa']==i,df['start_t_cl'],0)\n",
    "            df['service_t_'+str(i)]=np.where(df['fsa']==i,df['service_t'],0) \n",
    "        df['wait_mean_sr']=df['wait_t'].mean()\n",
    "        return df\n",
    "        \n",
    "    def mc_sim(NUM_FSA,FGZ_PRO_MIN,TICKET_PRO_MIN,SIM_TIME,NUM_RUNS=100):\n",
    "        output_sim={}\n",
    "        queues_dict={}\n",
    "        for i in range(0,NUM_RUNS):\n",
    "            wait_t, queues , arr_t, fg_ankommen,service_t,start_t, choices, fg_beended=TicketVerkaufSim(NUM_FSA,FGZ_PRO_MIN,TICKET_PRO_MIN,SIM_TIME)\n",
    "            output_sim[i]=create_output(fg_ankommen,start_t,choices,service_t,wait_t,fg_beended)\n",
    "            queues_dict[i]=queues\n",
    "        return output_sim,queues_dict\n",
    "\n",
    "    def bericht(df_output,NUM_FSA,FGZ_PRO_MIN,TICKET_PRO_MIN,SIM_TIME):\n",
    "        print('Anzahl FG pro Min:' + str(FGZ_PRO_MIN))\n",
    "        print('Anzahl FSA:'+ str(NUM_FSA))\n",
    "        print('Anzahl Tickets pro Minute bei FSA:'+ str(TICKET_PRO_MIN))\n",
    "\n",
    "        print('Anzahl FG ohne Ticket nach '+ str(SIM_TIME) + ' Minuten:' + str(df_output.fg_ohne_t.mean())+ ' ('+ format(df_output.ratio_fg_sch.mean(),\".2f\")+'%)')\n",
    "\n",
    "        print('Druchnitliche Wartezeit in Minuten: '+ format(df_output['wait_t_cl'].mean(),\".2f\"))\n",
    "        \n",
    "    \n",
    "    def plots(df_output,NUM_FSA):  \n",
    "        import seaborn as sns        \n",
    "        import warnings\n",
    "        \n",
    "        sns.set_style(\"whitegrid\")\n",
    "\n",
    "        color=['orange','blue', 'green','yellow','red','brown']\n",
    "\n",
    "\n",
    "        fig, axes = plt.subplots(nrows=1, ncols=3, figsize=(20, 5))\n",
    "        temp=df_output[df_output['sim_nr']==0]\n",
    "        axes[2].barh(\n",
    "            y=temp.fg,\n",
    "            left=temp.arr_t,\n",
    "            width=temp.wait_t_cl,\n",
    "            alpha=1.0,\n",
    "            color=\"gainsboro\", label='Wartezeit')\n",
    "        for i in range(NUM_FSA):\n",
    "            axes[2].barh(\n",
    "                y=temp.fg,\n",
    "                left=temp['start_t_'+str(i)],\n",
    "                width=temp['service_t_'+str(i)],\n",
    "                alpha=1.0,\n",
    "                color=color[i], label='Zeit beim FSA '+str(i+1))\n",
    "\n",
    "        axes[2].legend()\n",
    "        # Set common labels\n",
    "        axes[2].set_xlabel('Zeit[min]')\n",
    "        axes[2].set_ylabel('FG Nummer')\n",
    "        #axes[0].yticks(df.fg.unique().tolist())\n",
    "\n",
    "        ### Average Queue Time\n",
    "        plt.grid()\n",
    "\n",
    "        h=axes[0].hist(df_output.wait_t_cl, bins=20, rwidth=0.9,color='#b0dcf7')\n",
    "        axes[0].axvline(np.mean(df_output.wait_t_cl), color='red', label='Mean')\n",
    "        axes[0].text(np.mean(df_output.wait_t_cl)+0.05,0,'Mean '+format((np.mean(df_output.wait_t_cl)), \".2f\") ,rotation=90,color='red')\n",
    "        axes[0].set_xlabel('Wartezeit[min]')\n",
    "        axes[0].set_ylabel('Anzahl FG nach '+ str(NUM_RUNS) + ' Simulationen')\n",
    "\n",
    "        k=sns.distplot(df_output.wait_t_cl, ax=axes[1],color='#b0dcf7')\n",
    "        axes[1].axvline(np.mean(df_output.wait_t_cl), color='red', label='Mean')\n",
    "        axes[1].text(np.mean(df_output.wait_t_cl)+0.05,0,'Mean '+format((np.mean(df_output.wait_t_cl)), \".2f\") ,rotation=90,color='red')\n",
    "        axes[1].set_xlabel('Wartezeit[min]')\n",
    "        axes[1].set_ylabel('Wahrscheinlichkeit')\n",
    "\n",
    "\n",
    "        plt.show()\n",
    "\n",
    "    def Video(queues_dict,df_output,NUM_FSA,video_flag='N'):\n",
    "            ### Queues\n",
    "            \n",
    "            if video_flag=='Y':\n",
    "                %matplotlib notebook\n",
    "                %matplotlib inline\n",
    "                color=['orange','blue', 'green','yellow','red','brown']\n",
    "\n",
    "                q = pd.DataFrame(queues_dict[0])\n",
    "                temp=df_output[df_output['sim_nr']==0]\n",
    "\n",
    "                #plt.ioff()\n",
    "                # animation function \n",
    "                numbers = list(itertools.chain(range(0, len(temp))))\n",
    "\n",
    "                x=[]\n",
    "                y={}\n",
    "                for j in range(NUM_FSA):\n",
    "                    y[j]=[]\n",
    "                fig3, axes = plt.subplots(nrows=1, ncols=1, figsize=(10, 5))\n",
    "                legend_list=[]\n",
    "                def animate(i):\n",
    "\n",
    "                    x.append(numbers[i])\n",
    "                    for j in range(NUM_FSA):\n",
    "                        y[j].append((q[j][i]))\n",
    "                        axes.plot(x, y[j], color=color[j])\n",
    "                        legend_list.append('FSA'+str(j+1))\n",
    "                    axes.legend(set(legend_list))\n",
    "\n",
    "                plt.title(\"FSA Schlangenaufbau\")\n",
    "                plt.xlabel('FG')\n",
    "                plt.ylabel('Anzahl FG in der Schlange bei fsa 1,2, oder FSA 3')\n",
    "                # call the animator\t \n",
    "                anim = animation.FuncAnimation(fig3, animate, frames=len(temp), interval=800, repeat=False)\n",
    "                video = anim.to_html5_video()\n",
    "                html = display.HTML(video)\n",
    "                display.display(html)\n",
    "\n",
    "                plt.close()\n",
    "                        \n",
    "            \n",
    "\n",
    "    \n",
    "    output_sim,queues_dict=mc_sim(NUM_FSA,FGZ_PRO_MIN,TICKET_PRO_MIN,SIM_TIME,NUM_RUNS)\n",
    "    \n",
    "    df_output=pd.concat(output_sim).reset_index().drop('level_1', axis=1).rename(columns={'level_0':'sim_nr'})\n",
    "        \n",
    "    bericht(df_output,NUM_FSA,FGZ_PRO_MIN,TICKET_PRO_MIN,SIM_TIME) \n",
    "    warnings.simplefilter(action='ignore', category=FutureWarning)\n",
    "\n",
    "    plots(df_output,NUM_FSA)\n",
    "    Video(queues_dict,df_output,NUM_FSA,video_flag)\n",
    "\n"
   ]
  },
  {
   "cell_type": "code",
   "execution_count": 24,
   "id": "fb22c6b8",
   "metadata": {},
   "outputs": [
    {
     "data": {
      "application/mercury+json": {
       "code_uid": "Slider.0.40.34.1-randceaa6062",
       "disabled": false,
       "hidden": false,
       "label": "Anzahl FSA",
       "max": 6,
       "min": 1,
       "model_id": "3c2fd65e86374ff59fa0c0d58b85fcd3",
       "step": 1,
       "url_key": "",
       "value": 3,
       "widget": "Slider"
      },
      "application/vnd.jupyter.widget-view+json": {
       "model_id": "3c2fd65e86374ff59fa0c0d58b85fcd3",
       "version_major": 2,
       "version_minor": 0
      },
      "text/plain": [
       "mercury.Slider"
      ]
     },
     "metadata": {},
     "output_type": "display_data"
    },
    {
     "data": {
      "application/mercury+json": {
       "code_uid": "Slider.0.40.34.2-rande5fae1ed",
       "disabled": false,
       "hidden": false,
       "label": "Anzahl FG pro Minute",
       "max": 30,
       "min": 1,
       "model_id": "c271ce55079f43da963ab8feacb5e0b7",
       "step": 1,
       "url_key": "",
       "value": 15,
       "widget": "Slider"
      },
      "application/vnd.jupyter.widget-view+json": {
       "model_id": "c271ce55079f43da963ab8feacb5e0b7",
       "version_major": 2,
       "version_minor": 0
      },
      "text/plain": [
       "mercury.Slider"
      ]
     },
     "metadata": {},
     "output_type": "display_data"
    },
    {
     "data": {
      "application/mercury+json": {
       "code_uid": "Slider.0.40.34.3-randd1c2c5d9",
       "disabled": false,
       "hidden": false,
       "label": "Zeitraum",
       "max": 15,
       "min": 2,
       "model_id": "4ed4c8a44af34f5aa520e66757591525",
       "step": 1,
       "url_key": "",
       "value": 5,
       "widget": "Slider"
      },
      "application/vnd.jupyter.widget-view+json": {
       "model_id": "4ed4c8a44af34f5aa520e66757591525",
       "version_major": 2,
       "version_minor": 0
      },
      "text/plain": [
       "mercury.Slider"
      ]
     },
     "metadata": {},
     "output_type": "display_data"
    },
    {
     "data": {
      "application/mercury+json": {
       "code_uid": "Slider.0.40.34.4-rand12c584a5",
       "disabled": false,
       "hidden": false,
       "label": "Anzahl Tickets pro Minute",
       "max": 30,
       "min": 1,
       "model_id": "1a7e073debb349c1b11a4f9ccb7fd669",
       "step": 1,
       "url_key": "",
       "value": 3,
       "widget": "Slider"
      },
      "application/vnd.jupyter.widget-view+json": {
       "model_id": "1a7e073debb349c1b11a4f9ccb7fd669",
       "version_major": 2,
       "version_minor": 0
      },
      "text/plain": [
       "mercury.Slider"
      ]
     },
     "metadata": {},
     "output_type": "display_data"
    },
    {
     "data": {
      "application/mercury+json": {
       "code_uid": "Slider.0.40.34.5-rand4d06b7e8",
       "disabled": false,
       "hidden": false,
       "label": "MC Runs",
       "max": 10000,
       "min": 1,
       "model_id": "0b32ac266253411e9a666d047b9eacd5",
       "step": 1,
       "url_key": "",
       "value": 10,
       "widget": "Slider"
      },
      "application/vnd.jupyter.widget-view+json": {
       "model_id": "0b32ac266253411e9a666d047b9eacd5",
       "version_major": 2,
       "version_minor": 0
      },
      "text/plain": [
       "mercury.Slider"
      ]
     },
     "metadata": {},
     "output_type": "display_data"
    }
   ],
   "source": [
    "NUM_FSA = mr.Slider(value=3, min=1, max=6, label=\"Anzahl FSA\", step=1)\n",
    "FGZ_PRO_MIN= mr.Slider(value=15, min=1, max=30, label=\"Anzahl FG pro Minute\", step=1)\n",
    "SIM_TIME= mr.Slider(value=5, min=2, max=15, label=\"Zeitraum\", step=1)\n",
    "TICKET_PRO_MIN=mr.Slider(value=3, min=1, max=30, label=\"Anzahl Tickets pro Minute\", step=1)\n",
    "NUM_RUNS=mr.Slider(value=10, min=1, max=10000, label=\"MC Runs\", step=1)"
   ]
  },
  {
   "cell_type": "code",
   "execution_count": 16,
   "id": "f240f023",
   "metadata": {},
   "outputs": [
    {
     "data": {
      "application/mercury+json": {
       "choices": [
        "N",
        "Y"
       ],
       "code_uid": "Select.0.40.16.1-randf1052e77",
       "disabled": false,
       "hidden": false,
       "label": "Video",
       "model_id": "7a161c627d1b431f8dc3b3a8688a932d",
       "url_key": "",
       "value": "N",
       "widget": "Select"
      },
      "application/vnd.jupyter.widget-view+json": {
       "model_id": "7a161c627d1b431f8dc3b3a8688a932d",
       "version_major": 2,
       "version_minor": 0
      },
      "text/plain": [
       "mercury.Select"
      ]
     },
     "metadata": {},
     "output_type": "display_data"
    }
   ],
   "source": [
    "video_flag = mr.Select(value=\"N\", choices=['N','Y'], label=\"Video\")\n"
   ]
  },
  {
   "cell_type": "code",
   "execution_count": 23,
   "id": "dff4fe7b",
   "metadata": {},
   "outputs": [
    {
     "name": "stdout",
     "output_type": "stream",
     "text": [
      "Anzahl FG pro Min:15\n",
      "Anzahl FSA:3\n",
      "Anzahl Tickets pro Minute bei FSA:mercury.Slider\n",
      "Anzahl FG ohne Ticket nach 5 Minuten:26.3948087431694 (34.97%)\n",
      "Druchnitliche Wartezeit in Minuten: 0.86\n"
     ]
    },
    {
     "data": {
      "image/png": "[encoded data removed]",
      "text/plain": [
       "<Figure size 2000x500 with 3 Axes>"
      ]
     },
     "metadata": {},
     "output_type": "display_data"
    }
   ],
   "source": [
    "%matplotlib notebook\n",
    "%matplotlib inline\n",
    "RunSim(NUM_FSA.value,FGZ_PRO_MIN.value,SIM_TIME.value,NUM_RUNS.value,video_flag.value)"
   ]
  },
  {
   "cell_type": "code",
   "execution_count": null,
   "id": "f03488da",
   "metadata": {},
   "outputs": [],
   "source": []
  }
 ],
 "metadata": {
  "kernelspec": {
   "display_name": "simpi",
   "language": "python",
   "name": "python3"
  },
  "language_info": {
   "codemirror_mode": {
    "name": "ipython",
    "version": 3
   },
   "file_extension": ".py",
   "mimetype": "text/x-python",
   "name": "python",
   "nbconvert_exporter": "python",
   "pygments_lexer": "ipython3",
   "version": "3.10.12"
  }
 },
 "nbformat": 4,
 "nbformat_minor": 5
}
