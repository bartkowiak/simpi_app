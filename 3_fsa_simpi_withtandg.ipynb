{
 "cells": [
  {
   "cell_type": "code",
   "execution_count": 2,
   "id": "71d6da84-1086-4930-9608-6415f46d3629",
   "metadata": {
    "tags": []
   },
   "outputs": [],
   "source": [
    "import numpy as np\n",
    "import pandas as pd\n",
    "import simpy \n",
    "import matplotlib.pyplot as plt\n",
    "import mercury as mr\n",
    "from ipywidgets import interact, interactive, fixed, interact_manual\n",
    "\n",
    "import warnings\n",
    "warnings.simplefilter(action='ignore', category=FutureWarning)\n"
   ]
  },
  {
   "cell_type": "markdown",
   "id": "5605d254-47df-4b31-acd5-f25a8c302191",
   "metadata": {},
   "source": [
    "# Simulation Warteschlangen bei N-gleichen Fahrscheinautomaten"
   ]
  },
  {
   "cell_type": "code",
   "execution_count": 3,
   "id": "d09c9dec",
   "metadata": {},
   "outputs": [
    {
     "data": {
      "application/mercury+json": "{\n    \"widget\": \"App\",\n    \"title\": \"Simulation Pilot\",\n    \"description\": \"Simulation Warteschlangen bei N-gleichen Fahrscheinautomaten\",\n    \"show_code\": false,\n    \"show_prompt\": true,\n    \"output\": \"app\",\n    \"schedule\": \"\",\n    \"notify\": \"{}\",\n    \"continuous_update\": false,\n    \"static_notebook\": false,\n    \"show_sidebar\": true,\n    \"full_screen\": true,\n    \"allow_download\": true,\n    \"stop_on_error\": false,\n    \"model_id\": \"mercury-app\",\n    \"code_uid\": \"App.0.40.25.3-rand7697fb9b\"\n}",
      "text/html": [
       "<h3>Mercury Application</h3><small>This output won't appear in the web app.</small>"
      ],
      "text/plain": [
       "mercury.App"
      ]
     },
     "metadata": {},
     "output_type": "display_data"
    }
   ],
   "source": [
    "# set Application parameters\n",
    "# set Application parameters\n",
    "app = mr.App(title=\"Simulation Pilot\",\n",
    "        description=\"Simulation Warteschlangen bei N-gleichen Fahrscheinautomaten und N Touch&Go Geräte\",\n",
    "        show_code=False,\n",
    "        show_prompt=True,\n",
    "        continuous_update=False,\n",
    "        static_notebook=False,\n",
    "        show_sidebar=True,\n",
    "        full_screen=True,\n",
    "        allow_download=True)"
   ]
  },
  {
   "cell_type": "code",
   "execution_count": 8,
   "id": "dea9ac78",
   "metadata": {},
   "outputs": [],
   "source": [
    "def RunSim(NUM_FSA,NUM_TG,P,FGZ_PRO_MIN,TICKET_PRO_MIN,TICKET_PRO_MIN_TG,SIM_TIME,NUM_RUNS,video_flag='N'):\n",
    "   \n",
    "    import numpy as np\n",
    "    import pandas as pd\n",
    "    import simpy \n",
    "    import matplotlib.pyplot as plt\n",
    "    import itertools\n",
    "    from IPython import display\n",
    "    from ipywidgets import interactive\n",
    "    import matplotlib.pyplot as plt\n",
    "    from ipywidgets import interact, interactive, fixed, interact_manual\n",
    "    import ipywidgets as widgets\n",
    "    import matplotlib.pyplot as plt\n",
    "    import matplotlib.animation as animation\n",
    "    from IPython.display import HTML\n",
    "    import warnings\n",
    "\n",
    "    \n",
    "    def TicketVerkaufSim(NUM_FSA,NUM_TG,P,FGZ_PRO_MIN,TICKET_PRO_MIN,TICKET_PRO_MIN_TG,SIM_TIME):\n",
    "            \"\"\"A station has a limited number of Fahrscheinautomaten (``NUM_MACHINES``) to\n",
    "        sellt eh tickets in parallel.\n",
    "\n",
    "        Fahrgast has to request one of the machines. When they got one, they\n",
    "        can start the buying processes and wait for it to finish (which\n",
    "        is described by the Possion distribution as well).\"\"\"\n",
    "\n",
    "\n",
    "            import random\n",
    "\n",
    "            def generate_fg(FGZ_PRO_MIN):\n",
    "                return np.random.exponential(1.0/FGZ_PRO_MIN) # 10 customer per minute \n",
    "            #poisson_random_measure\n",
    "\n",
    "\n",
    "            def assign_fsa(TICKET_PRO_MIN):\n",
    "                return np.random.exponential(1.0/TICKET_PRO_MIN) # serve 2 customer per minute \n",
    "\n",
    "\n",
    "            def assign_tag(P):\n",
    "                return np.random.choice(2, 1, p=[1-P, P])[0]\n",
    "\n",
    "\n",
    "            #waiting time        \n",
    "            wait_t={}       \n",
    "            queues = []\n",
    "            arr_t=[]    \n",
    "            fg_ankommen={}\n",
    "            service_t={}\n",
    "            start_t={}\n",
    "            choices={}\n",
    "            fg_beended={}\n",
    "\n",
    "            def fg(env,fg, resourcen):\n",
    "                        t_arrival=env.now\n",
    "                        fg_ankommen[fg]=t_arrival\n",
    "                        QlengthFSA = {i:NoInSystem(resourcen[i]) for i in range(NUM_FSA)}\n",
    "                        QlengthTG = {i:NoInSystem(resourcen[i]) for i in range(NUM_FSA,NUM_FSA+NUM_TG)}\n",
    "\n",
    "                        queues.append({q:len(resourcen[q].put_queue) for q in range(len(resourcen))})\n",
    "                        if NUM_TG==0:\n",
    "                            TouchandGo=assign_tag(0)\n",
    "                        else:\n",
    "                            TouchandGo=assign_tag(P)\n",
    "                        if NUM_TG==0 or TouchandGo==0:\n",
    "                            choice=[k for k,v in sorted(QlengthFSA.items(), key=lambda a:a[1])][0]\n",
    "                        else:\n",
    "                            choice=[k for k,v in sorted(QlengthTG.items(), key=lambda a:a[1])][0]\n",
    "\n",
    "\n",
    "                        choices[fg]=(choice)\n",
    "\n",
    "                        with resourcen[choice].request() as request:              \n",
    "                            yield request\n",
    "                            t_service=env.now\n",
    "                            start_t[fg]=(t_service)\n",
    "\n",
    "                            wait_t[fg]=(t_service-t_arrival)\n",
    "\n",
    "                            if NUM_TG==0 or TouchandGo==0:\n",
    "                                yield env.timeout(assign_fsa(TICKET_PRO_MIN))\n",
    "                            else:\n",
    "                                yield env.timeout(assign_fsa(TICKET_PRO_MIN_TG))\n",
    "                            queues.append({i: len(resourcen[i].put_queue) for i in range(len(resourcen))})\n",
    "\n",
    "                            t_depart=env.now\n",
    "                            service_t[fg]=(t_depart-t_service)\n",
    "\n",
    "                            fg_beended[fg]=fg\n",
    "\n",
    "\n",
    "            def fsa_run(env):\n",
    "                i=0\n",
    "                while True:\n",
    "                    i+=1\n",
    "                    yield env.timeout(generate_fg(FGZ_PRO_MIN))\n",
    "                    env.process(fg(env,i, resourcen))\n",
    "\n",
    "            def NoInSystem(f):\n",
    "                \"\"\"Total number of customers in the resource R\"\"\"\n",
    "                return max([0, len(f.put_queue) + len(f.users)])\n",
    "\n",
    "\n",
    "\n",
    "            ###Simulation part\n",
    "\n",
    "            #np.random.seed(RANDOM_SEED) \n",
    "            np.random.seed() \n",
    "\n",
    "            env=simpy.Environment()\n",
    "            #generate resources\n",
    "            resourcen={i: simpy.Resource(env) for i in range(NUM_FSA+NUM_TG)}\n",
    "\n",
    "            #run\n",
    "            env.process(fsa_run(env))\n",
    "            env.run(until=SIM_TIME)\n",
    "\n",
    "\n",
    "            return wait_t, queues , arr_t, fg_ankommen,service_t,start_t, choices, fg_beended\n",
    "        \n",
    "    def create_output(fg_ankommen,start_t,choices,service_t,wait_t,fg_beended,SIM_TIME,NUM_FSA,NUM_TG):\n",
    "        def dfconverter(dict,column,i):\n",
    "            temp=pd.DataFrame(dict, index=[0]).T.reset_index()\n",
    "            temp.columns=['fg',column]\n",
    "            dictlist[i]=temp\n",
    "\n",
    "\n",
    "        listCol=['arr_t','start_t','fsa','service_t','wait_t','fg_beended']\n",
    "        listDict=[fg_ankommen,start_t,choices,service_t,wait_t,fg_beended]\n",
    "\n",
    "        dictlist={}\n",
    "        for i,x in enumerate(listDict):\n",
    "            dfconverter(x,listCol[i],i)  \n",
    "            \n",
    "        df=dictlist[0].merge(dictlist[1], how='left',on='fg').merge(dictlist[2], how='left',on='fg').merge(dictlist[3], how='left',on='fg').merge(dictlist[4], how='left',on='fg').merge(dictlist[5], how='left',on='fg').sort_values(by='fg')\n",
    "        ## fg noch in schlange:\n",
    "        fg_ohne_t=len(df[df['wait_t'].isna()])\n",
    "\n",
    "        if fg_ohne_t>0:\n",
    "            ratio_fg_sch=len(df[df['wait_t'].isna()])/len(df)*100\n",
    "        else:\n",
    "            ratio_fg_sch=0\n",
    "\n",
    "        df['ratio_fg_sch']=ratio_fg_sch\n",
    "        df['fg_ohne_t']=fg_ohne_t\n",
    "\n",
    "        df['wait_t_cl']=np.where(df['wait_t'].isna(),SIM_TIME-df['arr_t'],df['wait_t']) \n",
    "        df['start_t_cl']=np.where(((df['service_t'].isna()) & (~df['service_t'].isna())),SIM_TIME-df['start_t'],df['start_t']) \n",
    "\n",
    "        #df['wait_t']=df.start_t-df.arr_t\n",
    "        for i in range(NUM_FSA+NUM_TG):\n",
    "            df['start_t_'+str(i)]=np.where(df['fsa']==i,df['start_t_cl'],0)\n",
    "            df['service_t_'+str(i)]=np.where(df['fsa']==i,df['service_t'],0) \n",
    "        df['wait_mean_sr']=df['wait_t'].mean()\n",
    "        return df\n",
    "    \n",
    "    \n",
    "    def mc_sim(NUM_FSA,NUM_TG,P,FGZ_PRO_MIN,TICKET_PRO_MIN,TICKET_PRO_MIN_TG,SIM_TIME,NUM_RUNS=100):\n",
    "        output_sim={}\n",
    "        queues_dict={}\n",
    "        for i in range(0,NUM_RUNS):\n",
    "            wait_t, queues , arr_t, fg_ankommen,service_t,start_t, choices, fg_beended=TicketVerkaufSim(NUM_FSA,NUM_TG,P,FGZ_PRO_MIN,TICKET_PRO_MIN,TICKET_PRO_MIN_TG,SIM_TIME)\n",
    "            output_sim[i]=create_output(fg_ankommen,start_t,choices,service_t,wait_t,fg_beended,SIM_TIME,NUM_FSA,NUM_TG)\n",
    "            queues_dict[i]=queues\n",
    "        return output_sim,queues_dict\n",
    "\n",
    "    def bericht(df_output,NUM_FSA,NUM_TG,P,FGZ_PRO_MIN,TICKET_PRO_MIN,TICKET_PRO_MIN_TG,SIM_TIME):\n",
    "        print('Anzahl FG pro Min:' + str(FGZ_PRO_MIN))\n",
    "        print('Anteil der FG fuer T&G:'+ \"{:.0%}\".format(P))\n",
    "\n",
    "        print('Anzahl FSA:'+ str(NUM_FSA))\n",
    "        print('Anzahl T&G:'+ str(NUM_TG))\n",
    "\n",
    "        print('Anzahl Tickets pro Minute bei FSA:'+ str(TICKET_PRO_MIN))\n",
    "        print('Anzahl Tickets pro Minute bei FSA:'+ str(TICKET_PRO_MIN_TG))\n",
    "\n",
    "\n",
    "        print('Anzahl FG ohne Ticket nach '+ str(SIM_TIME) + ' Minuten:' + str(np.ceil(df_output.fg_ohne_t.mean()))+ ' ('+ format(df_output.ratio_fg_sch.mean(),\".2f\")+'%)')\n",
    "\n",
    "        print('Druchnitliche Wartezeit in Minuten: '+ format(df_output['wait_t_cl'].mean(),\".2f\"))\n",
    "        \n",
    "    \n",
    "    def plots(df_output,NUM_FSA,NUM_TG,NUM_RUNS):  \n",
    "\n",
    "        import seaborn as sns\n",
    "\n",
    "        sns.set_style(\"whitegrid\")\n",
    "\n",
    "        color=['orange','blue', 'green','yellow','red','brown','olive','purple','cyan','grey','pink']\n",
    "\n",
    "\n",
    "        fig2, axes = plt.subplots(nrows=1, ncols=2, figsize=(20, 5))\n",
    "        plt.grid()\n",
    "\n",
    "        h=axes[0].hist(df_output.wait_t_cl, bins=20, rwidth=0.9,color='#b0dcf7')\n",
    "        axes[0].axvline(np.mean(df_output.wait_t_cl), color='red', label='Mean')\n",
    "        axes[0].text(np.mean(df_output.wait_t_cl)+0.05,0,'Mean '+format((np.mean(df_output.wait_t_cl)), \".2f\") ,rotation=90,color='red')\n",
    "        axes[0].set_xlabel('Wartezeit[min]')\n",
    "        axes[0].set_ylabel('Anzahl FG nach '+ str(NUM_RUNS) + ' Simulationen')\n",
    "\n",
    "        k=sns.distplot(df_output.wait_t_cl, ax=axes[1],color='#b0dcf7')\n",
    "        axes[1].axvline(np.mean(df_output.wait_t_cl), color='red', label='Mean')\n",
    "        axes[1].text(np.mean(df_output.wait_t_cl)+0.05,0,'Mean '+format((np.mean(df_output.wait_t_cl)), \".2f\") ,rotation=90,color='red')\n",
    "        axes[1].set_xlabel('Wartezeit[min]')\n",
    "        axes[1].set_ylabel('Wahrscheinlichkeitdicht')\n",
    "\n",
    "        ### Average Queue Time\n",
    "\n",
    "\n",
    "        fig = plt.figure( figsize=(25,15))\n",
    "        temp=df_output[df_output['sim_nr']==0]\n",
    "        plt.barh(\n",
    "            y=temp.fg,\n",
    "            left=temp.arr_t,\n",
    "            width=temp.wait_t_cl,\n",
    "            alpha=1.0,\n",
    "            color=\"gainsboro\", label='Wartezeit')\n",
    "        for i in range(NUM_FSA+NUM_TG):\n",
    "            if i<NUM_FSA:\n",
    "                label='Zeit beim FSA '+str(i+1)\n",
    "            else:\n",
    "                label='Zeit beim T&G '+str(i+1)\n",
    "            plt.barh(\n",
    "                y=temp.fg,\n",
    "                left=temp['start_t_'+str(i)],\n",
    "                width=temp['service_t_'+str(i)],\n",
    "                alpha=1.0,\n",
    "                color=color[i], label=label)\n",
    "\n",
    "        plt.legend()\n",
    "        # Set common labels\n",
    "        plt.xlabel('Zeit[min]')\n",
    "        plt.ylabel('FG Nummer')\n",
    "        #axes[0].yticks(df.fg.unique().tolist())\n",
    "        plt.show()\n",
    "        plt.clf()\n",
    "        \n",
    "    def Video(queues_dict,df_output,NUM_FSA,NUM_TG,video_flag):\n",
    "            ### Queues\n",
    "            color=['orange','blue', 'green','yellow','red','brown','olive','purple','cyan','grey','pink']\n",
    "\n",
    "            q = pd.DataFrame(queues_dict[0])\n",
    "            temp=df_output[df_output['sim_nr']==0]\n",
    "\n",
    "            if video_flag=='Y':\n",
    "                %matplotlib notebook\n",
    "                %matplotlib inline\n",
    "\n",
    "                #plt.ioff()\n",
    "                # animation function \n",
    "                numbers = list(itertools.chain(range(0, len(temp))))\n",
    "\n",
    "                x=[]\n",
    "                y={}\n",
    "                for j in range(NUM_FSA+NUM_TG):\n",
    "                    y[j]=[]\n",
    "                fig3, axes = plt.subplots(nrows=1, ncols=1, figsize=(10, 5))\n",
    "                legend_list=[]\n",
    "                def animate(i):\n",
    "\n",
    "                    x.append(numbers[i])\n",
    "                    for j in range(NUM_FSA+NUM_TG):\n",
    "                        y[j].append((q[j][i]))\n",
    "                        axes.plot(x, y[j], color=color[j])\n",
    "                        if j<NUM_FSA:\n",
    "                            legend_list.append('FSA'+str(j+1))\n",
    "                        else:\n",
    "                            legend_list.append('T&G'+str(j+1))\n",
    "\n",
    "                    axes.legend(set(legend_list))\n",
    "\n",
    "                plt.title(\"Warteschlangenaufbau\")\n",
    "                plt.xlabel('FG')\n",
    "                plt.ylabel('Anzahl FG in der Schlange bei FSA/T&G')\n",
    "                # call the animator\t \n",
    "                anim = animation.FuncAnimation(fig3, animate, frames=len(temp), interval=800, repeat=False)\n",
    "                video = anim.to_html5_video()\n",
    "                html = display.HTML(video)\n",
    "                display.display(html)\n",
    "\n",
    "                plt.close()\n",
    "            else:\n",
    "                \n",
    "                legend_list=[]\n",
    "                pd.DataFrame(q).plot(figsize=(20, 5))\n",
    "                \n",
    "                for j in range(NUM_FSA+NUM_TG):\n",
    "                    if j<NUM_FSA:\n",
    "                        legend_list.append('FSA'+str(j+1))\n",
    "                    else:\n",
    "                        legend_list.append('T&G'+str(j+1))                    \n",
    "                plt.legend(set(legend_list))\n",
    "\n",
    "                plt.title(\"Warteschlangenaufbau\")\n",
    "                plt.xlabel('FG')\n",
    "                plt.ylabel('Anzahl FG in der Schlange bei FSA/T&G')\n",
    "                plt.show()\n",
    "            \n",
    "            \n",
    "\n",
    "    \n",
    "    output_sim,queues_dict=mc_sim(NUM_FSA,NUM_TG,P,FGZ_PRO_MIN,TICKET_PRO_MIN,TICKET_PRO_MIN_TG,SIM_TIME)\n",
    "    \n",
    "    df_output=pd.concat(output_sim).reset_index().drop('level_1', axis=1).rename(columns={'level_0':'sim_nr'})\n",
    "        \n",
    "    bericht(df_output,NUM_FSA,NUM_TG,P,FGZ_PRO_MIN,TICKET_PRO_MIN,TICKET_PRO_MIN_TG,SIM_TIME) \n",
    "    warnings.simplefilter(action='ignore', category=FutureWarning)\n",
    "\n",
    "    plots(df_output,NUM_FSA,NUM_TG,NUM_RUNS)\n",
    "    Video(queues_dict,df_output,NUM_FSA,NUM_TG,video_flag='N')\n"
   ]
  },
  {
   "cell_type": "code",
   "execution_count": 9,
   "id": "fb22c6b8",
   "metadata": {},
   "outputs": [
    {
     "data": {
      "application/mercury+json": "{\n    \"widget\": \"Slider\",\n    \"value\": 3,\n    \"min\": 1,\n    \"max\": 6,\n    \"step\": 1,\n    \"label\": \"Anzahl FSA\",\n    \"model_id\": \"125c3214fcd5485986fcb06454dd07f6\",\n    \"code_uid\": \"Slider.0.40.34.1-rand9f883fb8\",\n    \"url_key\": \"\",\n    \"disabled\": false,\n    \"hidden\": false\n}",
      "application/vnd.jupyter.widget-view+json": {
       "model_id": "125c3214fcd5485986fcb06454dd07f6",
       "version_major": 2,
       "version_minor": 0
      },
      "text/plain": [
       "mercury.Slider"
      ]
     },
     "metadata": {},
     "output_type": "display_data"
    },
    {
     "data": {
      "application/mercury+json": "{\n    \"widget\": \"Slider\",\n    \"value\": 3,\n    \"min\": 1,\n    \"max\": 6,\n    \"step\": 1,\n    \"label\": \"Anzahl T&G Ger\\u00e4te\",\n    \"model_id\": \"ad9582a9867c46069544392fbba18a1e\",\n    \"code_uid\": \"Slider.0.40.34.2-rand71dc0d92\",\n    \"url_key\": \"\",\n    \"disabled\": false,\n    \"hidden\": false\n}",
      "application/vnd.jupyter.widget-view+json": {
       "model_id": "ad9582a9867c46069544392fbba18a1e",
       "version_major": 2,
       "version_minor": 0
      },
      "text/plain": [
       "mercury.Slider"
      ]
     },
     "metadata": {},
     "output_type": "display_data"
    },
    {
     "data": {
      "application/mercury+json": "{\n    \"widget\": \"Slider\",\n    \"value\": 15.0,\n    \"min\": 1.0,\n    \"max\": 45.0,\n    \"step\": 0.2,\n    \"label\": \"Anzahl FG pro Minute\",\n    \"model_id\": \"a2f601a40f0a41e08d867d5954a3b673\",\n    \"code_uid\": \"Slider.0.40.34.4-randd3109827\",\n    \"url_key\": \"\",\n    \"disabled\": false,\n    \"hidden\": false\n}",
      "application/vnd.jupyter.widget-view+json": {
       "model_id": "a2f601a40f0a41e08d867d5954a3b673",
       "version_major": 2,
       "version_minor": 0
      },
      "text/plain": [
       "mercury.Slider"
      ]
     },
     "metadata": {},
     "output_type": "display_data"
    },
    {
     "data": {
      "application/mercury+json": "{\n    \"widget\": \"Slider\",\n    \"value\": 0.8,\n    \"min\": 0.05,\n    \"max\": 1.0,\n    \"step\": 0.05,\n    \"label\": \"Anteil FG mit Einzeltickets - T&G Kunden\",\n    \"model_id\": \"6d12e863093b41318924371a34e52065\",\n    \"code_uid\": \"Slider.0.40.34.5-rand73962d34\",\n    \"url_key\": \"\",\n    \"disabled\": false,\n    \"hidden\": false\n}",
      "application/vnd.jupyter.widget-view+json": {
       "model_id": "6d12e863093b41318924371a34e52065",
       "version_major": 2,
       "version_minor": 0
      },
      "text/plain": [
       "mercury.Slider"
      ]
     },
     "metadata": {},
     "output_type": "display_data"
    },
    {
     "data": {
      "application/mercury+json": "{\n    \"widget\": \"Slider\",\n    \"value\": 5,\n    \"min\": 2,\n    \"max\": 15,\n    \"step\": 1,\n    \"label\": \"Zeitraum\",\n    \"model_id\": \"b797837e632b49f69d43e93c0aabf613\",\n    \"code_uid\": \"Slider.0.40.34.7-rand926be4d6\",\n    \"url_key\": \"\",\n    \"disabled\": false,\n    \"hidden\": false\n}",
      "application/vnd.jupyter.widget-view+json": {
       "model_id": "b797837e632b49f69d43e93c0aabf613",
       "version_major": 2,
       "version_minor": 0
      },
      "text/plain": [
       "mercury.Slider"
      ]
     },
     "metadata": {},
     "output_type": "display_data"
    },
    {
     "data": {
      "application/mercury+json": "{\n    \"widget\": \"Slider\",\n    \"value\": 3,\n    \"min\": 1,\n    \"max\": 30,\n    \"step\": 1,\n    \"label\": \"Anzahl Tickets pro Minute bei FSA\",\n    \"model_id\": \"e01b5e33bd6243dead67e8db53f5506e\",\n    \"code_uid\": \"Slider.0.40.34.8-randaef2741a\",\n    \"url_key\": \"\",\n    \"disabled\": false,\n    \"hidden\": false\n}",
      "application/vnd.jupyter.widget-view+json": {
       "model_id": "e01b5e33bd6243dead67e8db53f5506e",
       "version_major": 2,
       "version_minor": 0
      },
      "text/plain": [
       "mercury.Slider"
      ]
     },
     "metadata": {},
     "output_type": "display_data"
    },
    {
     "data": {
      "application/mercury+json": "{\n    \"widget\": \"Slider\",\n    \"value\": 3,\n    \"min\": 1,\n    \"max\": 30,\n    \"step\": 1,\n    \"label\": \"Anzahl Tickets pro Minute bei T&G\",\n    \"model_id\": \"b40e385bd4524856875fdaf1ecda9d44\",\n    \"code_uid\": \"Slider.0.40.34.9-rand31a7369b\",\n    \"url_key\": \"\",\n    \"disabled\": false,\n    \"hidden\": false\n}",
      "application/vnd.jupyter.widget-view+json": {
       "model_id": "b40e385bd4524856875fdaf1ecda9d44",
       "version_major": 2,
       "version_minor": 0
      },
      "text/plain": [
       "mercury.Slider"
      ]
     },
     "metadata": {},
     "output_type": "display_data"
    },
    {
     "data": {
      "application/mercury+json": "{\n    \"widget\": \"Slider\",\n    \"value\": 10,\n    \"min\": 1,\n    \"max\": 10000,\n    \"step\": 1,\n    \"label\": \"MC Runs\",\n    \"model_id\": \"9ef6b24a00534f8e906615bc1624af74\",\n    \"code_uid\": \"Slider.0.40.34.11-rand0885b40f\",\n    \"url_key\": \"\",\n    \"disabled\": false,\n    \"hidden\": false\n}",
      "application/vnd.jupyter.widget-view+json": {
       "model_id": "9ef6b24a00534f8e906615bc1624af74",
       "version_major": 2,
       "version_minor": 0
      },
      "text/plain": [
       "mercury.Slider"
      ]
     },
     "metadata": {},
     "output_type": "display_data"
    }
   ],
   "source": [
    "NUM_FSA = mr.Slider(value=3, min=1, max=6, label=\"Anzahl FSA\", step=1)\n",
    "NUM_TG = mr.Slider(value=3, min=1, max=6, label=\"Anzahl T&G Geräte\", step=1)\n",
    "\n",
    "FGZ_PRO_MIN= mr.Slider(value=15, min=1, max=45, label=\"Anzahl FG pro Minute\", step=0.2)\n",
    "P= mr.Slider(value=.8, min=0.05, max=1, label=\"Anteil FG mit Einzeltickets - T&G Kunden\", step=0.05)\n",
    "\n",
    "SIM_TIME= mr.Slider(value=5, min=2, max=15, label=\"Zeitraum\", step=1)\n",
    "TICKET_PRO_MIN=mr.Slider(value=3, min=1, max=30, label=\"Anzahl Tickets pro Minute bei FSA\", step=1)\n",
    "TICKET_PRO_MIN_TG=mr.Slider(value=3, min=1, max=30, label=\"Anzahl Tickets pro Minute bei T&G\", step=1)\n",
    "\n",
    "NUM_RUNS=mr.Slider(value=10, min=1, max=10000, label=\"MC Runs\", step=1)"
   ]
  },
  {
   "cell_type": "code",
   "execution_count": 6,
   "id": "f240f023",
   "metadata": {},
   "outputs": [],
   "source": [
    "#video_flag = mr.Select(value=\"N\", choices=['N','Y'], label=\"Video\")\n"
   ]
  },
  {
   "cell_type": "code",
   "execution_count": 10,
   "id": "dff4fe7b",
   "metadata": {},
   "outputs": [
    {
     "ename": "TypeError",
     "evalue": "unsupported operand type(s) for -: 'int' and 'Slider'",
     "output_type": "error",
     "traceback": [
      "\u001b[1;31m---------------------------------------------------------------------------\u001b[0m",
      "\u001b[1;31mTypeError\u001b[0m                                 Traceback (most recent call last)",
      "\u001b[1;32m~\\AppData\\Local\\Temp/ipykernel_30772/748905861.py\u001b[0m in \u001b[0;36mfg\u001b[1;34m(env, fg, resourcen)\u001b[0m\n\u001b[0;32m     62\u001b[0m                         \u001b[1;32melse\u001b[0m\u001b[1;33m:\u001b[0m\u001b[1;33m\u001b[0m\u001b[1;33m\u001b[0m\u001b[0m\n\u001b[1;32m---> 63\u001b[1;33m                             \u001b[0mTouchandGo\u001b[0m\u001b[1;33m=\u001b[0m\u001b[0massign_tag\u001b[0m\u001b[1;33m(\u001b[0m\u001b[0mP\u001b[0m\u001b[1;33m)\u001b[0m\u001b[1;33m\u001b[0m\u001b[1;33m\u001b[0m\u001b[0m\n\u001b[0m\u001b[0;32m     64\u001b[0m                         \u001b[1;32mif\u001b[0m \u001b[0mNUM_TG\u001b[0m\u001b[1;33m==\u001b[0m\u001b[1;36m0\u001b[0m \u001b[1;32mor\u001b[0m \u001b[0mTouchandGo\u001b[0m\u001b[1;33m==\u001b[0m\u001b[1;36m0\u001b[0m\u001b[1;33m:\u001b[0m\u001b[1;33m\u001b[0m\u001b[1;33m\u001b[0m\u001b[0m\n",
      "\u001b[1;32m~\\AppData\\Local\\Temp/ipykernel_30772/748905861.py\u001b[0m in \u001b[0;36massign_tag\u001b[1;34m(P)\u001b[0m\n\u001b[0;32m     39\u001b[0m             \u001b[1;32mdef\u001b[0m \u001b[0massign_tag\u001b[0m\u001b[1;33m(\u001b[0m\u001b[0mP\u001b[0m\u001b[1;33m)\u001b[0m\u001b[1;33m:\u001b[0m\u001b[1;33m\u001b[0m\u001b[1;33m\u001b[0m\u001b[0m\n\u001b[1;32m---> 40\u001b[1;33m                 \u001b[1;32mreturn\u001b[0m \u001b[0mnp\u001b[0m\u001b[1;33m.\u001b[0m\u001b[0mrandom\u001b[0m\u001b[1;33m.\u001b[0m\u001b[0mchoice\u001b[0m\u001b[1;33m(\u001b[0m\u001b[1;36m2\u001b[0m\u001b[1;33m,\u001b[0m \u001b[1;36m1\u001b[0m\u001b[1;33m,\u001b[0m \u001b[0mp\u001b[0m\u001b[1;33m=\u001b[0m\u001b[1;33m[\u001b[0m\u001b[1;36m1\u001b[0m\u001b[1;33m-\u001b[0m\u001b[0mP\u001b[0m\u001b[1;33m,\u001b[0m \u001b[0mP\u001b[0m\u001b[1;33m]\u001b[0m\u001b[1;33m)\u001b[0m\u001b[1;33m[\u001b[0m\u001b[1;36m0\u001b[0m\u001b[1;33m]\u001b[0m\u001b[1;33m\u001b[0m\u001b[1;33m\u001b[0m\u001b[0m\n\u001b[0m\u001b[0;32m     41\u001b[0m \u001b[1;33m\u001b[0m\u001b[0m\n",
      "\u001b[1;31mTypeError\u001b[0m: unsupported operand type(s) for -: 'int' and 'Slider'",
      "\nThe above exception was the direct cause of the following exception:\n",
      "\u001b[1;31mTypeError\u001b[0m                                 Traceback (most recent call last)",
      "\u001b[1;32m~\\AppData\\Local\\Temp/ipykernel_30772/965452638.py\u001b[0m in \u001b[0;36m<module>\u001b[1;34m\u001b[0m\n\u001b[0;32m      1\u001b[0m \u001b[0mget_ipython\u001b[0m\u001b[1;33m(\u001b[0m\u001b[1;33m)\u001b[0m\u001b[1;33m.\u001b[0m\u001b[0mrun_line_magic\u001b[0m\u001b[1;33m(\u001b[0m\u001b[1;34m'matplotlib'\u001b[0m\u001b[1;33m,\u001b[0m \u001b[1;34m'notebook'\u001b[0m\u001b[1;33m)\u001b[0m\u001b[1;33m\u001b[0m\u001b[1;33m\u001b[0m\u001b[0m\n\u001b[0;32m      2\u001b[0m \u001b[0mget_ipython\u001b[0m\u001b[1;33m(\u001b[0m\u001b[1;33m)\u001b[0m\u001b[1;33m.\u001b[0m\u001b[0mrun_line_magic\u001b[0m\u001b[1;33m(\u001b[0m\u001b[1;34m'matplotlib'\u001b[0m\u001b[1;33m,\u001b[0m \u001b[1;34m'inline'\u001b[0m\u001b[1;33m)\u001b[0m\u001b[1;33m\u001b[0m\u001b[1;33m\u001b[0m\u001b[0m\n\u001b[1;32m----> 3\u001b[1;33m \u001b[0mRunSim\u001b[0m\u001b[1;33m(\u001b[0m\u001b[0mNUM_FSA\u001b[0m\u001b[1;33m.\u001b[0m\u001b[0mvalue\u001b[0m\u001b[1;33m,\u001b[0m\u001b[0mNUM_TG\u001b[0m\u001b[1;33m.\u001b[0m\u001b[0mvalue\u001b[0m\u001b[1;33m,\u001b[0m\u001b[0mP\u001b[0m\u001b[1;33m,\u001b[0m\u001b[0mFGZ_PRO_MIN\u001b[0m\u001b[1;33m.\u001b[0m\u001b[0mvalue\u001b[0m\u001b[1;33m,\u001b[0m\u001b[0mTICKET_PRO_MIN\u001b[0m\u001b[1;33m.\u001b[0m\u001b[0mvalue\u001b[0m\u001b[1;33m,\u001b[0m\u001b[0mTICKET_PRO_MIN_TG\u001b[0m\u001b[1;33m.\u001b[0m\u001b[0mvalue\u001b[0m\u001b[1;33m,\u001b[0m\u001b[0mSIM_TIME\u001b[0m\u001b[1;33m.\u001b[0m\u001b[0mvalue\u001b[0m\u001b[1;33m,\u001b[0m\u001b[0mNUM_RUNS\u001b[0m\u001b[1;33m.\u001b[0m\u001b[0mvalue\u001b[0m\u001b[1;33m,\u001b[0m\u001b[0mvideo_flag\u001b[0m\u001b[1;33m=\u001b[0m\u001b[1;34m'N'\u001b[0m\u001b[1;33m)\u001b[0m\u001b[1;33m\u001b[0m\u001b[1;33m\u001b[0m\u001b[0m\n\u001b[0m",
      "\u001b[1;32m~\\AppData\\Local\\Temp/ipykernel_30772/748905861.py\u001b[0m in \u001b[0;36mRunSim\u001b[1;34m(NUM_FSA, NUM_TG, P, FGZ_PRO_MIN, TICKET_PRO_MIN, TICKET_PRO_MIN_TG, SIM_TIME, NUM_RUNS, video_flag)\u001b[0m\n\u001b[0;32m    299\u001b[0m \u001b[1;33m\u001b[0m\u001b[0m\n\u001b[0;32m    300\u001b[0m \u001b[1;33m\u001b[0m\u001b[0m\n\u001b[1;32m--> 301\u001b[1;33m     \u001b[0moutput_sim\u001b[0m\u001b[1;33m,\u001b[0m\u001b[0mqueues_dict\u001b[0m\u001b[1;33m=\u001b[0m\u001b[0mmc_sim\u001b[0m\u001b[1;33m(\u001b[0m\u001b[0mNUM_FSA\u001b[0m\u001b[1;33m,\u001b[0m\u001b[0mNUM_TG\u001b[0m\u001b[1;33m,\u001b[0m\u001b[0mP\u001b[0m\u001b[1;33m,\u001b[0m\u001b[0mFGZ_PRO_MIN\u001b[0m\u001b[1;33m,\u001b[0m\u001b[0mTICKET_PRO_MIN\u001b[0m\u001b[1;33m,\u001b[0m\u001b[0mTICKET_PRO_MIN_TG\u001b[0m\u001b[1;33m,\u001b[0m\u001b[0mSIM_TIME\u001b[0m\u001b[1;33m)\u001b[0m\u001b[1;33m\u001b[0m\u001b[1;33m\u001b[0m\u001b[0m\n\u001b[0m\u001b[0;32m    302\u001b[0m \u001b[1;33m\u001b[0m\u001b[0m\n\u001b[0;32m    303\u001b[0m     \u001b[0mdf_output\u001b[0m\u001b[1;33m=\u001b[0m\u001b[0mpd\u001b[0m\u001b[1;33m.\u001b[0m\u001b[0mconcat\u001b[0m\u001b[1;33m(\u001b[0m\u001b[0moutput_sim\u001b[0m\u001b[1;33m)\u001b[0m\u001b[1;33m.\u001b[0m\u001b[0mreset_index\u001b[0m\u001b[1;33m(\u001b[0m\u001b[1;33m)\u001b[0m\u001b[1;33m.\u001b[0m\u001b[0mdrop\u001b[0m\u001b[1;33m(\u001b[0m\u001b[1;34m'level_1'\u001b[0m\u001b[1;33m,\u001b[0m \u001b[0maxis\u001b[0m\u001b[1;33m=\u001b[0m\u001b[1;36m1\u001b[0m\u001b[1;33m)\u001b[0m\u001b[1;33m.\u001b[0m\u001b[0mrename\u001b[0m\u001b[1;33m(\u001b[0m\u001b[0mcolumns\u001b[0m\u001b[1;33m=\u001b[0m\u001b[1;33m{\u001b[0m\u001b[1;34m'level_0'\u001b[0m\u001b[1;33m:\u001b[0m\u001b[1;34m'sim_nr'\u001b[0m\u001b[1;33m}\u001b[0m\u001b[1;33m)\u001b[0m\u001b[1;33m\u001b[0m\u001b[1;33m\u001b[0m\u001b[0m\n",
      "\u001b[1;32m~\\AppData\\Local\\Temp/ipykernel_30772/748905861.py\u001b[0m in \u001b[0;36mmc_sim\u001b[1;34m(NUM_FSA, NUM_TG, P, FGZ_PRO_MIN, TICKET_PRO_MIN, TICKET_PRO_MIN_TG, SIM_TIME, NUM_RUNS)\u001b[0m\n\u001b[0;32m    159\u001b[0m         \u001b[0mqueues_dict\u001b[0m\u001b[1;33m=\u001b[0m\u001b[1;33m{\u001b[0m\u001b[1;33m}\u001b[0m\u001b[1;33m\u001b[0m\u001b[1;33m\u001b[0m\u001b[0m\n\u001b[0;32m    160\u001b[0m         \u001b[1;32mfor\u001b[0m \u001b[0mi\u001b[0m \u001b[1;32min\u001b[0m \u001b[0mrange\u001b[0m\u001b[1;33m(\u001b[0m\u001b[1;36m0\u001b[0m\u001b[1;33m,\u001b[0m\u001b[0mNUM_RUNS\u001b[0m\u001b[1;33m)\u001b[0m\u001b[1;33m:\u001b[0m\u001b[1;33m\u001b[0m\u001b[1;33m\u001b[0m\u001b[0m\n\u001b[1;32m--> 161\u001b[1;33m             \u001b[0mwait_t\u001b[0m\u001b[1;33m,\u001b[0m \u001b[0mqueues\u001b[0m \u001b[1;33m,\u001b[0m \u001b[0marr_t\u001b[0m\u001b[1;33m,\u001b[0m \u001b[0mfg_ankommen\u001b[0m\u001b[1;33m,\u001b[0m\u001b[0mservice_t\u001b[0m\u001b[1;33m,\u001b[0m\u001b[0mstart_t\u001b[0m\u001b[1;33m,\u001b[0m \u001b[0mchoices\u001b[0m\u001b[1;33m,\u001b[0m \u001b[0mfg_beended\u001b[0m\u001b[1;33m=\u001b[0m\u001b[0mTicketVerkaufSim\u001b[0m\u001b[1;33m(\u001b[0m\u001b[0mNUM_FSA\u001b[0m\u001b[1;33m,\u001b[0m\u001b[0mNUM_TG\u001b[0m\u001b[1;33m,\u001b[0m\u001b[0mP\u001b[0m\u001b[1;33m,\u001b[0m\u001b[0mFGZ_PRO_MIN\u001b[0m\u001b[1;33m,\u001b[0m\u001b[0mTICKET_PRO_MIN\u001b[0m\u001b[1;33m,\u001b[0m\u001b[0mTICKET_PRO_MIN_TG\u001b[0m\u001b[1;33m,\u001b[0m\u001b[0mSIM_TIME\u001b[0m\u001b[1;33m)\u001b[0m\u001b[1;33m\u001b[0m\u001b[1;33m\u001b[0m\u001b[0m\n\u001b[0m\u001b[0;32m    162\u001b[0m             \u001b[0moutput_sim\u001b[0m\u001b[1;33m[\u001b[0m\u001b[0mi\u001b[0m\u001b[1;33m]\u001b[0m\u001b[1;33m=\u001b[0m\u001b[0mcreate_output\u001b[0m\u001b[1;33m(\u001b[0m\u001b[0mfg_ankommen\u001b[0m\u001b[1;33m,\u001b[0m\u001b[0mstart_t\u001b[0m\u001b[1;33m,\u001b[0m\u001b[0mchoices\u001b[0m\u001b[1;33m,\u001b[0m\u001b[0mservice_t\u001b[0m\u001b[1;33m,\u001b[0m\u001b[0mwait_t\u001b[0m\u001b[1;33m,\u001b[0m\u001b[0mfg_beended\u001b[0m\u001b[1;33m,\u001b[0m\u001b[0mSIM_TIME\u001b[0m\u001b[1;33m,\u001b[0m\u001b[0mNUM_FSA\u001b[0m\u001b[1;33m,\u001b[0m\u001b[0mNUM_TG\u001b[0m\u001b[1;33m)\u001b[0m\u001b[1;33m\u001b[0m\u001b[1;33m\u001b[0m\u001b[0m\n\u001b[0;32m    163\u001b[0m             \u001b[0mqueues_dict\u001b[0m\u001b[1;33m[\u001b[0m\u001b[0mi\u001b[0m\u001b[1;33m]\u001b[0m\u001b[1;33m=\u001b[0m\u001b[0mqueues\u001b[0m\u001b[1;33m\u001b[0m\u001b[1;33m\u001b[0m\u001b[0m\n",
      "\u001b[1;32m~\\AppData\\Local\\Temp/ipykernel_30772/748905861.py\u001b[0m in \u001b[0;36mTicketVerkaufSim\u001b[1;34m(NUM_FSA, NUM_TG, P, FGZ_PRO_MIN, TICKET_PRO_MIN, TICKET_PRO_MIN_TG, SIM_TIME)\u001b[0m\n\u001b[0;32m    113\u001b[0m             \u001b[1;31m#run\u001b[0m\u001b[1;33m\u001b[0m\u001b[1;33m\u001b[0m\u001b[0m\n\u001b[0;32m    114\u001b[0m             \u001b[0menv\u001b[0m\u001b[1;33m.\u001b[0m\u001b[0mprocess\u001b[0m\u001b[1;33m(\u001b[0m\u001b[0mfsa_run\u001b[0m\u001b[1;33m(\u001b[0m\u001b[0menv\u001b[0m\u001b[1;33m)\u001b[0m\u001b[1;33m)\u001b[0m\u001b[1;33m\u001b[0m\u001b[1;33m\u001b[0m\u001b[0m\n\u001b[1;32m--> 115\u001b[1;33m             \u001b[0menv\u001b[0m\u001b[1;33m.\u001b[0m\u001b[0mrun\u001b[0m\u001b[1;33m(\u001b[0m\u001b[0muntil\u001b[0m\u001b[1;33m=\u001b[0m\u001b[0mSIM_TIME\u001b[0m\u001b[1;33m)\u001b[0m\u001b[1;33m\u001b[0m\u001b[1;33m\u001b[0m\u001b[0m\n\u001b[0m\u001b[0;32m    116\u001b[0m \u001b[1;33m\u001b[0m\u001b[0m\n\u001b[0;32m    117\u001b[0m \u001b[1;33m\u001b[0m\u001b[0m\n",
      "\u001b[1;32m~\\Anaconda3\\envs\\simpi_app2\\lib\\site-packages\\simpy\\core.py\u001b[0m in \u001b[0;36mrun\u001b[1;34m(self, until)\u001b[0m\n\u001b[0;32m    252\u001b[0m         \u001b[1;32mtry\u001b[0m\u001b[1;33m:\u001b[0m\u001b[1;33m\u001b[0m\u001b[1;33m\u001b[0m\u001b[0m\n\u001b[0;32m    253\u001b[0m             \u001b[1;32mwhile\u001b[0m \u001b[1;32mTrue\u001b[0m\u001b[1;33m:\u001b[0m\u001b[1;33m\u001b[0m\u001b[1;33m\u001b[0m\u001b[0m\n\u001b[1;32m--> 254\u001b[1;33m                 \u001b[0mself\u001b[0m\u001b[1;33m.\u001b[0m\u001b[0mstep\u001b[0m\u001b[1;33m(\u001b[0m\u001b[1;33m)\u001b[0m\u001b[1;33m\u001b[0m\u001b[1;33m\u001b[0m\u001b[0m\n\u001b[0m\u001b[0;32m    255\u001b[0m         \u001b[1;32mexcept\u001b[0m \u001b[0mStopSimulation\u001b[0m \u001b[1;32mas\u001b[0m \u001b[0mexc\u001b[0m\u001b[1;33m:\u001b[0m\u001b[1;33m\u001b[0m\u001b[1;33m\u001b[0m\u001b[0m\n\u001b[0;32m    256\u001b[0m             \u001b[1;32mreturn\u001b[0m \u001b[0mexc\u001b[0m\u001b[1;33m.\u001b[0m\u001b[0margs\u001b[0m\u001b[1;33m[\u001b[0m\u001b[1;36m0\u001b[0m\u001b[1;33m]\u001b[0m  \u001b[1;31m# == until.value\u001b[0m\u001b[1;33m\u001b[0m\u001b[1;33m\u001b[0m\u001b[0m\n",
      "\u001b[1;32m~\\Anaconda3\\envs\\simpi_app2\\lib\\site-packages\\simpy\\core.py\u001b[0m in \u001b[0;36mstep\u001b[1;34m(self)\u001b[0m\n\u001b[0;32m    204\u001b[0m             \u001b[0mexc\u001b[0m \u001b[1;33m=\u001b[0m \u001b[0mtype\u001b[0m\u001b[1;33m(\u001b[0m\u001b[0mevent\u001b[0m\u001b[1;33m.\u001b[0m\u001b[0m_value\u001b[0m\u001b[1;33m)\u001b[0m\u001b[1;33m(\u001b[0m\u001b[1;33m*\u001b[0m\u001b[0mevent\u001b[0m\u001b[1;33m.\u001b[0m\u001b[0m_value\u001b[0m\u001b[1;33m.\u001b[0m\u001b[0margs\u001b[0m\u001b[1;33m)\u001b[0m\u001b[1;33m\u001b[0m\u001b[1;33m\u001b[0m\u001b[0m\n\u001b[0;32m    205\u001b[0m             \u001b[0mexc\u001b[0m\u001b[1;33m.\u001b[0m\u001b[0m__cause__\u001b[0m \u001b[1;33m=\u001b[0m \u001b[0mevent\u001b[0m\u001b[1;33m.\u001b[0m\u001b[0m_value\u001b[0m\u001b[1;33m\u001b[0m\u001b[1;33m\u001b[0m\u001b[0m\n\u001b[1;32m--> 206\u001b[1;33m             \u001b[1;32mraise\u001b[0m \u001b[0mexc\u001b[0m\u001b[1;33m\u001b[0m\u001b[1;33m\u001b[0m\u001b[0m\n\u001b[0m\u001b[0;32m    207\u001b[0m \u001b[1;33m\u001b[0m\u001b[0m\n\u001b[0;32m    208\u001b[0m     def run(\n",
      "\u001b[1;31mTypeError\u001b[0m: unsupported operand type(s) for -: 'int' and 'Slider'"
     ]
    }
   ],
   "source": [
    "%matplotlib notebook\n",
    "%matplotlib inline\n",
    "RunSim(NUM_FSA.value,NUM_TG.value,P,FGZ_PRO_MIN.value,TICKET_PRO_MIN.value,TICKET_PRO_MIN_TG.value,SIM_TIME.value,NUM_RUNS.value,video_flag='N')\n"
   ]
  },
  {
   "cell_type": "code",
   "execution_count": null,
   "id": "2a2d1194-a92a-4cc2-bb3c-271e62f7e734",
   "metadata": {},
   "outputs": [],
   "source": []
  }
 ],
 "metadata": {
  "kernelspec": {
   "display_name": "Python [conda env:simpi_app2]",
   "language": "python",
   "name": "conda-env-simpi_app2-py"
  },
  "language_info": {
   "codemirror_mode": {
    "name": "ipython",
    "version": 3
   },
   "file_extension": ".py",
   "mimetype": "text/x-python",
   "name": "python",
   "nbconvert_exporter": "python",
   "pygments_lexer": "ipython3",
   "version": "3.10.12"
  }
 },
 "nbformat": 4,
 "nbformat_minor": 5
}
